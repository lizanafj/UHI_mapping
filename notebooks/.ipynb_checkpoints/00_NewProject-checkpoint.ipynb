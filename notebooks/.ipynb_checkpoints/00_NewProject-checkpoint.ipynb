{
 "cells": [
  {
   "cell_type": "markdown",
   "id": "52a86c2e",
   "metadata": {},
   "source": [
    "<sup>This notebook is originally from https://github.com/lizanafj/UHI_mapping and licensed for reuse under [GPL-3.0 license].</sup>"
   ]
  },
  {
   "cell_type": "markdown",
   "id": "bba616c4",
   "metadata": {},
   "source": [
    "# New Project\n",
    "---"
   ]
  },
  {
   "cell_type": "markdown",
   "id": "5795434f",
   "metadata": {},
   "source": [
    "This notebook creates the directory and variables required for a new project. "
   ]
  },
  {
   "cell_type": "code",
   "execution_count": null,
   "id": "94dd270a",
   "metadata": {},
   "outputs": [],
   "source": [
    "import os\n",
    "import glob\n",
    "import io\n",
    "import numpy as np \n",
    "\n",
    "import matplotlib.pyplot as plt\n",
    "\n",
    "#url\n",
    "from urllib.request import urlopen, Request\n",
    "from PIL import Image\n",
    "\n",
    "#cartopy\n",
    "import cartopy \n",
    "import cartopy.crs as ccrs\n",
    "import cartopy.io.img_tiles as cimgt\n",
    "from cartopy.mpl.ticker import LongitudeFormatter, LatitudeFormatter\n",
    "\n",
    "# get folder location of script\n",
    "cwd = os.getcwd()"
   ]
  },
  {
   "cell_type": "markdown",
   "id": "14332d39",
   "metadata": {},
   "source": [
    "## Define name of city project to work\n",
    "---"
   ]
  },
  {
   "cell_type": "markdown",
   "id": "ac0b02e3",
   "metadata": {},
   "source": [
    "Define the name of the **`city`** (projectname) to upload/save all data during the workflow"
   ]
  },
  {
   "cell_type": "code",
   "execution_count": null,
   "id": "c474e032",
   "metadata": {},
   "outputs": [],
   "source": [
    "#Introduce new city project: \n",
    "city= \"Seville\""
   ]
  },
  {
   "cell_type": "markdown",
   "id": "9f5b2a14",
   "metadata": {},
   "source": [
    "## Generation of the project directory\n",
    "---"
   ]
  },
  {
   "cell_type": "markdown",
   "id": "969a1270",
   "metadata": {},
   "source": [
    "Creation of new directory for the new project **`city`**."
   ]
  },
  {
   "cell_type": "code",
   "execution_count": null,
   "id": "5baa67de",
   "metadata": {},
   "outputs": [],
   "source": [
    "os.chdir(cwd)"
   ]
  },
  {
   "cell_type": "code",
   "execution_count": null,
   "id": "82b18ddc",
   "metadata": {},
   "outputs": [],
   "source": [
    "# get folder location of script\n",
    "cwd_main = cwd[:-10]\n",
    "cwd_project = cwd_main + f\"\\projectname\\{city}\"\n",
    "print(cwd_main)\n",
    "print(cwd_project)"
   ]
  },
  {
   "cell_type": "code",
   "execution_count": null,
   "id": "9c92b10e",
   "metadata": {},
   "outputs": [],
   "source": [
    "#Check if project directory is created - if not - create\n",
    "if os.path.exists(cwd_project):\n",
    "    print(\"The directory already exists: \", cwd_project)\n",
    "if not os.path.exists(cwd_project):\n",
    "    os.makedirs(cwd_project)\n",
    "    os.makedirs(cwd_project+r\"\\data\")\n",
    "    os.makedirs(cwd_project+r\"\\reports\")\n",
    "    os.makedirs(cwd_project+r\"\\data\\0_raw\")\n",
    "    os.makedirs(cwd_project+r\"\\data\\0_raw\\temp\")\n",
    "    os.makedirs(cwd_project+r\"\\data\\1_structured\")\n",
    "    os.makedirs(cwd_project+r\"\\data\\2_filtered\")\n",
    "    os.makedirs(cwd_project+r\"\\data\\3_processed\")\n",
    "    os.makedirs(cwd_project+r\"\\reports\\figures\")\n",
    "    \n",
    "    print(\"new directory created: \", cwd_project)"
   ]
  },
  {
   "cell_type": "markdown",
   "id": "dfc771e7",
   "metadata": {},
   "source": [
    "## Create and modify config.py\n",
    "---\n",
    "\n",
    "Duplicate config.py file in your new project and modify the input data required for data extraction, pre-processing and analytics.\n"
   ]
  },
  {
   "cell_type": "markdown",
   "id": "390a32ee",
   "metadata": {},
   "source": [
    "## Import input data of the project - config.py \n",
    "---"
   ]
  },
  {
   "cell_type": "markdown",
   "id": "bddac769",
   "metadata": {},
   "source": [
    "Once created the new config.py file, open and check:"
   ]
  },
  {
   "cell_type": "code",
   "execution_count": null,
   "id": "54154915",
   "metadata": {},
   "outputs": [],
   "source": [
    "# go to current location of script\n",
    "os.chdir(cwd_project)\n",
    "print(\"Folder opened: \",cwd_project)\n",
    "\n",
    "import config as cf"
   ]
  },
  {
   "cell_type": "code",
   "execution_count": null,
   "id": "31ecef9c",
   "metadata": {
    "scrolled": true
   },
   "outputs": [],
   "source": [
    "#check input variables\n",
    "\n",
    "print(\"city: \",cf.city)\n",
    "print(\"first date: \",cf.first_date)\n",
    "print(\"last date: \",cf.last_date)\n",
    "print(\"lat,long: \",cf.lat,cf.long)\n",
    "print(\"plot: \",cf.plot)"
   ]
  },
  {
   "cell_type": "markdown",
   "id": "a2e760da",
   "metadata": {},
   "source": [
    "## Explore and check config.py - location and extension (area for mapping)\n",
    "---\n"
   ]
  },
  {
   "cell_type": "markdown",
   "id": "a025a170",
   "metadata": {},
   "source": [
    "Verification lat, long, and extension for UHI mapping"
   ]
  },
  {
   "cell_type": "code",
   "execution_count": null,
   "id": "7469ba82",
   "metadata": {},
   "outputs": [],
   "source": [
    "#upload functions for visualisation\n",
    "os.chdir(cf.cwd_scripts_visual)\n",
    "\n",
    "from functions.streetmap import image_spoof #importamos street map API"
   ]
  },
  {
   "cell_type": "markdown",
   "id": "f5bf8c66",
   "metadata": {},
   "source": [
    "Definition of extent - frame for mapping"
   ]
  },
  {
   "cell_type": "code",
   "execution_count": null,
   "id": "30f0d889",
   "metadata": {},
   "outputs": [],
   "source": [
    "#get extent from config.py\n",
    "extent = cf.extent\n",
    "print(\"Extent: \",extent)"
   ]
  },
  {
   "cell_type": "markdown",
   "id": "a8677834",
   "metadata": {},
   "source": [
    "Visualisation of city extent from street map"
   ]
  },
  {
   "cell_type": "code",
   "execution_count": null,
   "id": "65b30e3f",
   "metadata": {},
   "outputs": [],
   "source": [
    "cimgt.Stamen.get_image = image_spoof # reformat web request for street map spoofing\n",
    "osm_img = cimgt.Stamen('terrain') # spoofed, downloaded street map  'terrain-background', 'terrain'\n",
    "\n",
    "fig = plt.figure(figsize=(12,9)) # open matplotlib figure\n",
    "ax1 = plt.axes(projection=osm_img.crs) # project using coordinate reference system (CRS) of street map\n",
    "ax1.set_title(f'{city}',fontsize=16)\n",
    "\n",
    "ax1.set_extent(extent) # set extents\n",
    "\n",
    "\n",
    "ax1.set_xticks(np.linspace(extent[0],extent[1],7),crs=ccrs.PlateCarree()) # set longitude indicators\n",
    "ax1.set_yticks(np.linspace(extent[2],extent[3],7)[1:],crs=ccrs.PlateCarree()) # set latitude indicators\n",
    "lon_formatter = LongitudeFormatter(number_format='0.1f',degree_symbol='',dateline_direction_label=True) # format lons\n",
    "lat_formatter = LatitudeFormatter(number_format='0.1f',degree_symbol='') # format lats\n",
    "ax1.xaxis.set_major_formatter(lon_formatter) # set lons\n",
    "ax1.yaxis.set_major_formatter(lat_formatter) # set lats\n",
    "ax1.xaxis.set_tick_params(labelsize=14)\n",
    "ax1.yaxis.set_tick_params(labelsize=14)\n",
    "\n",
    "\n",
    "scale = np.ceil(-np.sqrt(2)*np.log(np.divide((extent[1]-extent[0])/2.0,350.0))) # empirical solve for scale based on zoom\n",
    "scale = (scale<20) and scale or 19 # scale cannot be larger than 19\n",
    "ax1.add_image(osm_img, int(scale)) # add OSM with zoom specification\n",
    "\n",
    "os.chdir(cf.cwd_figures)\n",
    "plt.savefig(f\"00_Extraction_{city}_figure1.jpg\", format='jpg')\n",
    "plt.show() # show plot"
   ]
  },
  {
   "cell_type": "markdown",
   "id": "626c3ac0",
   "metadata": {},
   "source": [
    "If the area to map is not adequate, modify lat, long and plot values in config.py file"
   ]
  }
 ],
 "metadata": {
  "kernelspec": {
   "display_name": "Python 3 (ipykernel)",
   "language": "python",
   "name": "python3"
  },
  "language_info": {
   "codemirror_mode": {
    "name": "ipython",
    "version": 3
   },
   "file_extension": ".py",
   "mimetype": "text/x-python",
   "name": "python",
   "nbconvert_exporter": "python",
   "pygments_lexer": "ipython3",
   "version": "3.8.12"
  }
 },
 "nbformat": 4,
 "nbformat_minor": 5
}
