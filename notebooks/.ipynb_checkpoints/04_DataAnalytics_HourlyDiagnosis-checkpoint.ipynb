{
 "cells": [
  {
   "cell_type": "markdown",
   "id": "52a86c2e",
   "metadata": {},
   "source": [
    "<sup>This notebook is originally from https://github.com/lizanafj/UHI_mapping and licensed for reuse under [GPL-3.0 license].</sup>"
   ]
  },
  {
   "cell_type": "markdown",
   "id": "bba616c4",
   "metadata": {},
   "source": [
    "# Data Analytics - Hourly Diagnosis \n",
    "---"
   ]
  },
  {
   "cell_type": "markdown",
   "id": "5795434f",
   "metadata": {},
   "source": [
    "This notebook has different data analysis techniques for the diagnosis of the urban heat island in cities"
   ]
  },
  {
   "cell_type": "code",
   "execution_count": null,
   "id": "94dd270a",
   "metadata": {},
   "outputs": [],
   "source": [
    "import os\n",
    "import requests\n",
    "import pandas as pd\n",
    "import numpy as np\n",
    "import json\n",
    "\n",
    "import matplotlib.pyplot as plt #biblioteca de generación de gráficos\n",
    "from matplotlib.dates import DateFormatter\n",
    "import matplotlib.dates as mdates\n",
    "from matplotlib.dates import date2num\n",
    "import datetime\n",
    "from datetime import datetime\n",
    "\n",
    "# get folder location of script\n",
    "cwd = os.getcwd()"
   ]
  },
  {
   "cell_type": "markdown",
   "id": "e3de1859",
   "metadata": {},
   "source": [
    "## Define name of city project to work\n",
    "---"
   ]
  },
  {
   "cell_type": "markdown",
   "id": "07c2dbbd",
   "metadata": {},
   "source": [
    "Define the name of the **`city`** (projectname) to upload/save all data during the workflow"
   ]
  },
  {
   "cell_type": "code",
   "execution_count": null,
   "id": "28971d9a",
   "metadata": {},
   "outputs": [],
   "source": [
    "#City project: \n",
    "city= \"London\""
   ]
  },
  {
   "cell_type": "markdown",
   "id": "9f5b2a14",
   "metadata": {},
   "source": [
    "## Import input data of the project - config.py \n",
    "---"
   ]
  },
  {
   "cell_type": "code",
   "execution_count": null,
   "id": "d1773542",
   "metadata": {},
   "outputs": [],
   "source": [
    "os.chdir(cwd)"
   ]
  },
  {
   "cell_type": "code",
   "execution_count": null,
   "id": "82b18ddc",
   "metadata": {},
   "outputs": [],
   "source": [
    "cwd_main = cwd[:-10]\n",
    "cwd_project = cwd_main + f\"\\projectname\\{city}\"\n",
    "print(cwd_main)\n",
    "print(cwd_project)"
   ]
  },
  {
   "cell_type": "code",
   "execution_count": null,
   "id": "967fea8e",
   "metadata": {},
   "outputs": [],
   "source": [
    "#import config.py file\n",
    "\n",
    "# go to current location of script\n",
    "os.chdir(cwd_project)\n",
    "import config as cf"
   ]
  },
  {
   "cell_type": "code",
   "execution_count": null,
   "id": "31ecef9c",
   "metadata": {
    "scrolled": true
   },
   "outputs": [],
   "source": [
    "#check input variables\n",
    "print(\"city: \",cf.city)\n",
    "print(\"first date: \",cf.first_date)\n",
    "print(\"last date: \",cf.last_date)\n",
    "print(\"lat,long: \",cf.lat,cf.long)\n",
    "print(\"plot: \",cf.plot)\n",
    "print(\"extent:\",cf.extent)"
   ]
  },
  {
   "cell_type": "markdown",
   "id": "34b47d66",
   "metadata": {},
   "source": [
    "## Data analytics - Hourly Diagnosis of UHI intensity\n",
    "---"
   ]
  },
  {
   "cell_type": "markdown",
   "id": "8b1cc438",
   "metadata": {},
   "source": [
    "Read final files after pre-processing and preliminary analytical steps"
   ]
  },
  {
   "cell_type": "code",
   "execution_count": null,
   "id": "d12076c0",
   "metadata": {},
   "outputs": [],
   "source": [
    "#Read data from OWS\n",
    "os.chdir(cf.cwd_data_filt)\n",
    "os.listdir()"
   ]
  },
  {
   "cell_type": "code",
   "execution_count": null,
   "id": "ea4deb00",
   "metadata": {},
   "outputs": [],
   "source": [
    "temp_OWS = pd.read_csv(\"Temperature_London_2021_OWS_QC_I5.csv\", index_col='date',parse_dates=True)"
   ]
  },
  {
   "cell_type": "code",
   "execution_count": null,
   "id": "17a19def",
   "metadata": {},
   "outputs": [],
   "source": [
    "#Read data from CWS\n",
    "os.chdir(cf.cwd_data_proc)\n",
    "os.listdir()"
   ]
  },
  {
   "cell_type": "code",
   "execution_count": null,
   "id": "184c9b2c",
   "metadata": {},
   "outputs": [],
   "source": [
    "temp_CWS = pd.read_csv(\"Temperature_London_2021_CWS_all_QC_G8_proc.csv\", index_col='date',parse_dates=True)\n",
    "temp_rural = pd.read_csv(\"xTemperature_London_2021_CWS_rural_stations.csv\", index_col='date',parse_dates=True)\n",
    "coord_CWS = pd.read_csv(\"Coordinates_London_2021_CWS_all_QC_G8_proc_CDH.csv\")"
   ]
  },
  {
   "cell_type": "markdown",
   "id": "24ec6ac3",
   "metadata": {},
   "source": [
    "Calculation of temperature difference between urban and rural (UHI intensity = temp_CWS - temp_rural)"
   ]
  },
  {
   "cell_type": "code",
   "execution_count": null,
   "id": "02a3ed28",
   "metadata": {},
   "outputs": [],
   "source": [
    "#UHI intensity\n",
    "uhi_intensity = temp_CWS.copy()\n",
    "\n",
    "for i in range(0,len(uhi_intensity)):   \n",
    "    uhi_intensity.iloc[i] = temp_CWS.iloc[i] - temp_rural.iloc[i].values"
   ]
  },
  {
   "cell_type": "markdown",
   "id": "7a623465",
   "metadata": {},
   "source": [
    "Calculation of percentales of UHI intensity"
   ]
  },
  {
   "cell_type": "code",
   "execution_count": null,
   "id": "ea01538b",
   "metadata": {},
   "outputs": [],
   "source": [
    "uhi_intensity_perc = uhi_intensity.copy()"
   ]
  },
  {
   "cell_type": "code",
   "execution_count": null,
   "id": "a2842399",
   "metadata": {},
   "outputs": [],
   "source": [
    "uhi_intensity_perc[\"90th Percentile\"] = np.nan\n",
    "uhi_intensity_perc[\"75th Percentile\"] = np.nan\n",
    "uhi_intensity_perc[\"25th Percentile\"] = np.nan\n",
    "uhi_intensity_perc = uhi_intensity_perc[[\"90th Percentile\",\"75th Percentile\",\"25th Percentile\"]]"
   ]
  },
  {
   "cell_type": "code",
   "execution_count": null,
   "id": "32a6f2df",
   "metadata": {},
   "outputs": [],
   "source": [
    "for i in range(0,len(uhi_intensity)):   \n",
    "    uhi_intensity_perc[\"90th Percentile\"].iloc[i] = uhi_intensity.iloc[i].quantile(0.9)\n",
    "    uhi_intensity_perc[\"75th Percentile\"].iloc[i] = uhi_intensity.iloc[i].quantile(0.75)\n",
    "    uhi_intensity_perc[\"25th Percentile\"].iloc[i] = uhi_intensity.iloc[i].quantile(0.25)"
   ]
  },
  {
   "cell_type": "markdown",
   "id": "7e0b9e64",
   "metadata": {},
   "source": [
    "Comparison of Temperature profiles with UHI intensity percentiles"
   ]
  },
  {
   "cell_type": "code",
   "execution_count": null,
   "id": "bc6c9b8b",
   "metadata": {},
   "outputs": [],
   "source": [
    "#Figure to check day\n",
    "day1=\"2021-07-01\"\n",
    "day2=\"2021-09-01\"\n",
    "\n",
    "#global figure\n",
    "fig, axes = plt.subplots(2, 1, sharex=False)\n",
    "fig.set_size_inches(22,9)\n",
    "\n",
    "#Fig. 1_temperature \n",
    "axes[0].set_title('a) Temperature profiles',loc=\"left\",fontsize=12)\n",
    "\n",
    "axes[0].plot(temp_rural.truncate(before=day1, after=day2).iloc[:,0],color='red',alpha=1,label=\"Mean temperature in surrounding rural area\",linewidth=1.5)\n",
    "axes[0].plot(temp_CWS.truncate(before=day1, after=day2).iloc[:,0],color='blue',alpha=1,label=\"CWS data\",linewidth=1)\n",
    "axes[0].plot(temp_OWS.truncate(before=day1, after=day2).iloc[:,0],color='k',alpha=1,label=\"OWS data\",linewidth=1)\n",
    "\n",
    "axes[0].plot(temp_CWS.truncate(before=day1, after=day2),color='blue',alpha=0.1,label='_Hidden',linewidth=0.2)\n",
    "axes[0].plot(temp_OWS.truncate(before=day1, after=day2),color='k',alpha=1,label='_Hidden',linewidth=0.6)\n",
    "axes[0].plot(temp_rural.truncate(before=day1, after=day2),color='red',alpha=1,label='_Hidden',linewidth=1.5)\n",
    "\n",
    "axes[0].set(xlabel='Time', ylabel='Temperature (°C)')     \n",
    "axes[0].legend(loc='upper right')\n",
    "axes[0].margins(x=0)\n",
    "\n",
    "#2\n",
    "axes[1].set_title('b) UHI intensity percentiles',loc=\"left\",fontsize=12)\n",
    "\n",
    "axes[1].plot(uhi_intensity_perc[[\"90th Percentile\"]].truncate(before=day1, after=day2).iloc[:,0],color='red',alpha=1,label=\"90th Percentile\",linewidth=1)\n",
    "axes[1].plot(uhi_intensity_perc[[\"75th Percentile\"]].truncate(before=day1, after=day2).iloc[:,0],color='orange',alpha=1,label=\"75th Percentile\",linewidth=1)\n",
    "axes[1].plot(uhi_intensity_perc[[\"25th Percentile\"]].truncate(before=day1, after=day2).iloc[:,0],color='royalblue',alpha=1,label=\"25th Percentile\",linewidth=1)\n",
    "\n",
    "axes[1].set(xlabel='Time', ylabel='UHI intensity (°C)')\n",
    "axes[1].legend(loc='upper right')\n",
    "axes[1].margins(x=0)\n",
    "\n",
    "os.chdir(cf.cwd_figures)\n",
    "plt.savefig(f\"04_Analytics_{city}_figure1.jpg\", format='jpg')\n",
    "plt.show()\n"
   ]
  },
  {
   "cell_type": "markdown",
   "id": "00a14114",
   "metadata": {},
   "source": [
    "Annual UHI intensity mapping by kriging interpolation over streetmap"
   ]
  },
  {
   "cell_type": "code",
   "execution_count": null,
   "id": "b55d3a18",
   "metadata": {},
   "outputs": [],
   "source": [
    "extent = cf.extent"
   ]
  },
  {
   "cell_type": "code",
   "execution_count": null,
   "id": "93c15b51",
   "metadata": {},
   "outputs": [],
   "source": [
    "#Cartopy\n",
    "import cartopy \n",
    "import cartopy.crs as ccrs\n",
    "import cartopy.io.img_tiles as cimgt\n",
    "from cartopy.mpl.ticker import LongitudeFormatter, LatitudeFormatter\n",
    "\n",
    "#kriging\n",
    "import pykrige #biblioteca de geoestadística - https://geostat-framework.readthedocs.io/projects/pykrige/en/stable/\n",
    "import pykrige.kriging_tools as kt #herramientas para exportar e importar archivos .asc con biblioteca PyKrige\n",
    "from pykrige.ok import OrdinaryKriging #Kriging Ordinario con PyKrige\n",
    "\n",
    "from matplotlib.cm import ScalarMappable\n",
    "\n",
    "#upload functions\n",
    "os.chdir(cf.cwd_scripts_visual)\n",
    "from functions.streetmap import image_spoof #street map API"
   ]
  },
  {
   "cell_type": "code",
   "execution_count": null,
   "id": "c7422e1d",
   "metadata": {},
   "outputs": [],
   "source": [
    "def data_extraction(time,CWS_temperature,CWS_coordinates,rural_temp): \n",
    "    \n",
    "    map_time = time   #'2021-08-29 08:00:00'\n",
    "    \n",
    "    #Extraction of data for that day\n",
    "    UHIday = CWS_temperature.loc[map_time]\n",
    "    UHIday = UHIday.to_frame()\n",
    "    UHIday = UHIday.reset_index()\n",
    "    UHIday[\"temp\"] = UHIday.iloc[:,[1]]\n",
    "    UHIday = UHIday.drop(UHIday.columns[[1]], axis=1)\n",
    "    UHIday = UHIday.rename(columns={\"index\":\"module_final\"})\n",
    "    \n",
    "    UHIday2 = pd.merge(UHIday,CWS_coordinates[['module_final','lat','long']], on=\"module_final\")\n",
    "    UHIday3 = UHIday2.dropna()\n",
    "    \n",
    "    \n",
    "    #Delta temperature with regards to baseline (mean surrounding rural areas) \n",
    "    rural_temp = temp_rural.loc[map_time].values[0]\n",
    "    \n",
    "    UHIday4 = UHIday3.copy()\n",
    "    UHIday4[\"DeltaT\"] = UHIday4[\"temp\"] - rural_temp\n",
    "    #UHIday4[\"DeltaT\"] = UHIday4[\"Dif\"].mask((UHIday4[\"Dif\"]<0),0)\n",
    "\n",
    "    return UHIday4, rural_temp, map_time"
   ]
  },
  {
   "cell_type": "code",
   "execution_count": null,
   "id": "00541edd",
   "metadata": {},
   "outputs": [],
   "source": [
    "time_extraction = '2021-07-20 22:00:00'\n",
    "time_temp, rural_temp , map_time = data_extraction(time_extraction,temp_CWS,coord_CWS,temp_rural)"
   ]
  },
  {
   "cell_type": "code",
   "execution_count": null,
   "id": "b881a94c",
   "metadata": {},
   "outputs": [],
   "source": [
    "x = np.array(time_temp['long'])\n",
    "y = np.array(time_temp['lat'])\n",
    "temp=np.array(time_temp['temp'])"
   ]
  },
  {
   "cell_type": "code",
   "execution_count": null,
   "id": "546669ea",
   "metadata": {},
   "outputs": [],
   "source": [
    "###############################################################################\n",
    "# Create the ordinary kriging object. \n",
    "OK = OrdinaryKriging(x,y,temp, variogram_model=\"spherical\", nlags=60,weight= True,  \n",
    "                      enable_plotting=True, \n",
    "                    coordinates_type='geographic',enable_statistics=True)\n",
    "\n",
    "grid_x = np.arange(extent[0],extent[1],0.005) #size of pixel ########## IMPORTANT 0.005 defaout\n",
    "grid_y = np.arange(extent[2],extent[3],0.005)\n",
    "\n",
    "###############################################################################\n",
    "# Creates the kriged grid and the variance grid. Allows for kriging on a rectangular\n",
    "# grid of points, on a masked rectangular grid of points, or with arbitrary points.\n",
    "z, ss = OK.execute('grid', grid_x, grid_y)\n",
    "\n",
    "#save results of kriging\n",
    "# Writes the kriged grid to an ASCII grid file and plot it.\n",
    "os.chdir(cf.cwd_figures)\n",
    "kt.write_asc_grid(grid_x, grid_y, z, filename=\"kriging_ordinario.asc\") #Kriging Ordinario en forma de matriz\n",
    "kt.write_asc_grid(grid_x, grid_y, ss, filename=\"kriging_ordinario_var.asc\") #Varianza de estimación en forma de matriz\n",
    "\n",
    "#-------------------------------------------------------------------------------------------"
   ]
  },
  {
   "cell_type": "code",
   "execution_count": null,
   "id": "0dfae005",
   "metadata": {},
   "outputs": [],
   "source": [
    "#upload results of kriging\n",
    "os.chdir(cf.cwd_figures)\n",
    "asc = pd.read_csv(\"./kriging_ordinario.asc\", header=None, skiprows=7, sep=\"\\s+\") \n",
    "\n",
    "#calculate deltaT\n",
    "asc = asc - rural_temp\n",
    "\n",
    "temp2=np.array(asc)\n",
    "\n",
    "##############################################################################\n",
    "#PLOT kriging over map using CARTOPY - street map API\n",
    "#-------------------------------------------------------------------------------------------\n",
    "\n",
    "cimgt.Stamen.get_image = image_spoof # reformat web request for street map spoofing\n",
    "osm_img = cimgt.OSM() # spoofed, downloaded street map  'terrain-background', 'terrain'  'toner'\n",
    "\n",
    "fig = plt.figure(figsize=(12,9)) # open matplotlib figure\n",
    "ax1 = plt.axes(projection=osm_img.crs) # project using coordinate reference system (CRS) of street map\n",
    "ax1.set_title('UHI Intensity. Time '+str(map_time),fontsize=16)\n",
    "\n",
    "ax1.set_extent(extent) # set extents\n",
    "ax1.set_xticks(np.linspace(extent[0],extent[1],7),crs=ccrs.PlateCarree()) # set longitude indicators\n",
    "ax1.set_yticks(np.linspace(extent[2],extent[3],7)[1:],crs=ccrs.PlateCarree()) # set latitude indicators\n",
    "lon_formatter = LongitudeFormatter(number_format='0.1f',degree_symbol='',dateline_direction_label=True) # format lons\n",
    "lat_formatter = LatitudeFormatter(number_format='0.1f',degree_symbol='') # format lats\n",
    "ax1.xaxis.set_major_formatter(lon_formatter) # set lons\n",
    "ax1.yaxis.set_major_formatter(lat_formatter) # set lats\n",
    "ax1.xaxis.set_tick_params(labelsize=14)\n",
    "ax1.yaxis.set_tick_params(labelsize=14)\n",
    "\n",
    "scale = np.ceil(-np.sqrt(2)*np.log(np.divide((extent[1]-extent[0])/2.0,350.0))) # empirical solve for scale based on zoom\n",
    "scale = (scale<20) and scale or 19 # scale cannot be larger than 19\n",
    "ax1.add_image(osm_img, int(scale)) # add OSM with zoom specification\n",
    "\n",
    "cmap = plt.get_cmap(\"turbo\") #Color alternatives: \"turbo\" \"Reds\" \"hot_r\" \"jet\"   -   \"OrRd\" \"gist_heat_r\" \"afmhot_r\" \"RdBu_r\"\n",
    "ax1=plt.imshow(temp2, transform=ccrs.PlateCarree(),cmap=cmap,extent=[extent[0],extent[1],extent[2],extent[3]],alpha=0.65,zorder=1,vmin=-4, vmax=6) #min and max similar to bar\n",
    "\n",
    "#temperature bar\n",
    "norm = plt.Normalize(-4,6) #max and min   -  temp2.min(),temp2.max()\n",
    "sm =  ScalarMappable(norm=norm, cmap=cmap)\n",
    "sm.set_array([])\n",
    "cbaxes = fig.add_axes([0.74, 0.15, 0.025, 0.3])\n",
    "cbar = fig.colorbar(sm, cax=cbaxes, orientation='vertical',shrink=0.3,aspect=10)\n",
    "cbar.ax.set_title(\"ΔT\")\n",
    "\n",
    "#plt.text(-5,4, \"Time: \"+str(map_time.hour)+\":00\", fontsize=20, color='k')\n",
    "os.chdir(cf.cwd_figures)\n",
    "plt.savefig(f\"04_Analytics_{city}_figure2.jpg\", format='jpg')\n",
    "plt.show()"
   ]
  },
  {
   "cell_type": "code",
   "execution_count": null,
   "id": "efeecd9b",
   "metadata": {},
   "outputs": [],
   "source": []
  }
 ],
 "metadata": {
  "kernelspec": {
   "display_name": "Python 3 (ipykernel)",
   "language": "python",
   "name": "python3"
  },
  "language_info": {
   "codemirror_mode": {
    "name": "ipython",
    "version": 3
   },
   "file_extension": ".py",
   "mimetype": "text/x-python",
   "name": "python",
   "nbconvert_exporter": "python",
   "pygments_lexer": "ipython3",
   "version": "3.8.12"
  }
 },
 "nbformat": 4,
 "nbformat_minor": 5
}
