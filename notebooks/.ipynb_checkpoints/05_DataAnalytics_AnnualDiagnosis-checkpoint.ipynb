{
 "cells": [
  {
   "cell_type": "markdown",
   "id": "52a86c2e",
   "metadata": {},
   "source": [
    "<sup>This notebook is originally from https://github.com/lizanafj/UHI_mapping and licensed for reuse under [GPL-3.0 license].</sup>"
   ]
  },
  {
   "cell_type": "markdown",
   "id": "bba616c4",
   "metadata": {},
   "source": [
    "# Data Analytics - Annual Diagnosis \n",
    "---"
   ]
  },
  {
   "cell_type": "markdown",
   "id": "5795434f",
   "metadata": {},
   "source": [
    "This notebook has different data analysis techniques for the diagnosis of the urban heat island in cities"
   ]
  },
  {
   "cell_type": "code",
   "execution_count": null,
   "id": "94dd270a",
   "metadata": {},
   "outputs": [],
   "source": [
    "import os\n",
    "import requests\n",
    "import pandas as pd\n",
    "import numpy as np\n",
    "import json\n",
    "\n",
    "import matplotlib.pyplot as plt #biblioteca de generación de gráficos\n",
    "from matplotlib.dates import DateFormatter\n",
    "import matplotlib.dates as mdates\n",
    "from matplotlib.dates import date2num\n",
    "import datetime\n",
    "from datetime import datetime\n",
    "\n",
    "# get folder location of script\n",
    "cwd = os.getcwd()"
   ]
  },
  {
   "cell_type": "markdown",
   "id": "e3de1859",
   "metadata": {},
   "source": [
    "## Define name of city project to work\n",
    "---"
   ]
  },
  {
   "cell_type": "markdown",
   "id": "07c2dbbd",
   "metadata": {},
   "source": [
    "Define the name of the **`city`** (projectname) to upload/save all data during the workflow"
   ]
  },
  {
   "cell_type": "code",
   "execution_count": null,
   "id": "28971d9a",
   "metadata": {},
   "outputs": [],
   "source": [
    "#City project: \n",
    "city= \"London\""
   ]
  },
  {
   "cell_type": "markdown",
   "id": "9f5b2a14",
   "metadata": {},
   "source": [
    "## Import input data of the project - config.py \n",
    "---"
   ]
  },
  {
   "cell_type": "code",
   "execution_count": null,
   "id": "d1773542",
   "metadata": {},
   "outputs": [],
   "source": [
    "os.chdir(cwd)"
   ]
  },
  {
   "cell_type": "code",
   "execution_count": null,
   "id": "82b18ddc",
   "metadata": {},
   "outputs": [],
   "source": [
    "cwd_main = cwd[:-10]\n",
    "cwd_project = cwd_main + f\"\\projectname\\{city}\"\n",
    "print(cwd_main)\n",
    "print(cwd_project)"
   ]
  },
  {
   "cell_type": "code",
   "execution_count": null,
   "id": "967fea8e",
   "metadata": {},
   "outputs": [],
   "source": [
    "#import config.py file\n",
    "\n",
    "# go to current location of script\n",
    "os.chdir(cwd_project)\n",
    "import config as cf"
   ]
  },
  {
   "cell_type": "code",
   "execution_count": null,
   "id": "31ecef9c",
   "metadata": {
    "scrolled": true
   },
   "outputs": [],
   "source": [
    "#check input variables\n",
    "print(\"city: \",cf.city)\n",
    "print(\"first date: \",cf.first_date)\n",
    "print(\"last date: \",cf.last_date)\n",
    "print(\"lat,long: \",cf.lat,cf.long)\n",
    "print(\"plot: \",cf.plot)\n",
    "print(\"extent:\",cf.extent)"
   ]
  },
  {
   "cell_type": "markdown",
   "id": "34b47d66",
   "metadata": {},
   "source": [
    "## Data analytics - Annual Diagnosis\n",
    "---"
   ]
  },
  {
   "cell_type": "markdown",
   "id": "8b1cc438",
   "metadata": {},
   "source": [
    "Read final files after pre-processing and preliminary analytical steps"
   ]
  },
  {
   "cell_type": "code",
   "execution_count": null,
   "id": "d12076c0",
   "metadata": {},
   "outputs": [],
   "source": [
    "#Read data from OWS\n",
    "os.chdir(cf.cwd_data_filt)\n",
    "os.listdir()"
   ]
  },
  {
   "cell_type": "code",
   "execution_count": null,
   "id": "ea4deb00",
   "metadata": {},
   "outputs": [],
   "source": [
    "coord_OWS = pd.read_csv(\"Coordinates_London_2021_OWS_QC_I5.csv\")"
   ]
  },
  {
   "cell_type": "code",
   "execution_count": null,
   "id": "17a19def",
   "metadata": {},
   "outputs": [],
   "source": [
    "#Read data from CWS\n",
    "os.chdir(cf.cwd_data_proc)\n",
    "os.listdir()"
   ]
  },
  {
   "cell_type": "code",
   "execution_count": null,
   "id": "184c9b2c",
   "metadata": {},
   "outputs": [],
   "source": [
    "coord_CWS = pd.read_csv(\"Coordinates_London_2021_CWS_all_QC_G8_proc_CDH.csv\")"
   ]
  },
  {
   "cell_type": "code",
   "execution_count": null,
   "id": "aed2476c",
   "metadata": {},
   "outputs": [],
   "source": [
    "coord_all = pd.concat([coord_OWS,coord_CWS]).reset_index().drop(columns=[\"Unnamed: 0.1\",\"index\",\"Unnamed: 0\"])"
   ]
  },
  {
   "cell_type": "code",
   "execution_count": null,
   "id": "46159844",
   "metadata": {},
   "outputs": [],
   "source": [
    "coord_all"
   ]
  },
  {
   "cell_type": "markdown",
   "id": "24ec6ac3",
   "metadata": {},
   "source": [
    "Mapping weather stations over streemap - using Cartopy & street map API"
   ]
  },
  {
   "cell_type": "code",
   "execution_count": null,
   "id": "cfdedb17",
   "metadata": {},
   "outputs": [],
   "source": [
    "extent = cf.extent"
   ]
  },
  {
   "cell_type": "code",
   "execution_count": null,
   "id": "015353ac",
   "metadata": {},
   "outputs": [],
   "source": [
    "#Cartopy\n",
    "import cartopy \n",
    "import cartopy.crs as ccrs\n",
    "import cartopy.io.img_tiles as cimgt\n",
    "from cartopy.mpl.ticker import LongitudeFormatter, LatitudeFormatter\n",
    "\n",
    "#kriging\n",
    "import pykrige #biblioteca de geoestadística - https://geostat-framework.readthedocs.io/projects/pykrige/en/stable/\n",
    "import pykrige.kriging_tools as kt #herramientas para exportar e importar archivos .asc con biblioteca PyKrige\n",
    "from pykrige.ok import OrdinaryKriging #Kriging Ordinario con PyKrige\n",
    "\n",
    "from matplotlib.cm import ScalarMappable\n",
    "\n",
    "#upload functions\n",
    "os.chdir(cf.cwd_scripts_visual)\n",
    "from functions.streetmap import image_spoof #importamos street map API"
   ]
  },
  {
   "cell_type": "code",
   "execution_count": null,
   "id": "00541edd",
   "metadata": {},
   "outputs": [],
   "source": [
    "#Visualisation of location of weather stations\n",
    "x = np.array(coord_all['long'])\n",
    "y = np.array(coord_all['lat'])\n",
    "temp=np.array(coord_all['type'])\n",
    "\n",
    "cimgt.Stamen.get_image = image_spoof # reformat web request for street map spoofing\n",
    "osm_img = cimgt.Stamen('terrain-background') # spoofed, downloaded street map  'terrain-background', 'terrain'\n",
    "\n",
    "fig = plt.figure(figsize=(12,9)) # open matplotlib figure\n",
    "ax1 = plt.axes(projection=osm_img.crs) # project using coordinate reference system (CRS) of street map\n",
    "ax1.set_title('Location of weather stations',fontsize=16)\n",
    "\n",
    "ax1.set_extent(extent) # set extents\n",
    "ax1.set_xticks(np.linspace(extent[0],extent[1],7),crs=ccrs.PlateCarree()) # set longitude indicators\n",
    "ax1.set_yticks(np.linspace(extent[2],extent[3],7)[1:],crs=ccrs.PlateCarree()) # set latitude indicators\n",
    "lon_formatter = LongitudeFormatter(number_format='0.1f',degree_symbol='',dateline_direction_label=True) # format lons\n",
    "lat_formatter = LatitudeFormatter(number_format='0.1f',degree_symbol='') # format lats\n",
    "ax1.xaxis.set_major_formatter(lon_formatter) # set lons\n",
    "ax1.yaxis.set_major_formatter(lat_formatter) # set lats\n",
    "ax1.xaxis.set_tick_params(labelsize=14)\n",
    "ax1.yaxis.set_tick_params(labelsize=14)\n",
    "\n",
    "scale = np.ceil(-np.sqrt(2)*np.log(np.divide((extent[1]-extent[0])/2.0,350.0))) # empirical solve for scale based on zoom\n",
    "scale = (scale<20) and scale or 19 # scale cannot be larger than 19\n",
    "ax1.add_image(osm_img, int(scale)) # add OSM with zoom specification\n",
    "\n",
    "#visualisation of stations as scatters/dots\n",
    "Color_list = [\"red\",\"orange\",\"k\"]\n",
    "marker_size1 = [4,4,8]\n",
    "marker1= ['D','D','o']\n",
    "uniq = sorted(list(set(coord_all['type'])),reverse = False)\n",
    "\n",
    "# Plot each species\n",
    "for i in range(len(uniq)):\n",
    "    indx = coord_all['type'] == uniq[i]\n",
    "    ax1.plot(x[indx], y[indx], markersize=marker_size1[i],marker=marker1[i],linestyle='',color=Color_list[i],label=uniq[i],transform=ccrs.PlateCarree())\n",
    "\n",
    "plt.legend(loc='lower right',fontsize=14)\n",
    "\n",
    "os.chdir(cf.cwd_figures)\n",
    "plt.savefig(f\"05_Analytics_{city}_figure1.jpg\", format='jpg')\n",
    "plt.show()"
   ]
  },
  {
   "cell_type": "markdown",
   "id": "708d68b3",
   "metadata": {},
   "source": [
    "Annual CDHs mapping by kriging interpolation over streetmap"
   ]
  },
  {
   "cell_type": "code",
   "execution_count": null,
   "id": "63d7ab1f",
   "metadata": {},
   "outputs": [],
   "source": [
    "##############################################################################  \n",
    "# ANNUAL CDH INTERPOLATION USING KRIGING\n",
    "##############################################################################\n",
    "\n",
    "x = np.array(coord_CWS['long'])\n",
    "y = np.array(coord_CWS['lat'])\n",
    "temp=np.array(coord_CWS['cdh_total']) #'cdh_night' , 'cdh_day', 'cdh_total' \n",
    "\n",
    "###############################################################################\n",
    "# Create the ordinary kriging object. \n",
    "\n",
    "OK = OrdinaryKriging(x,y,temp, variogram_model=\"spherical\", nlags=15,weight= True,  \n",
    "                      enable_plotting=True, \n",
    "                    coordinates_type='geographic',enable_statistics=True)\n",
    "\n",
    "grid_x = np.arange(extent[0],extent[1],0.005) #size of pixel ########## IMPORTANT 0.005 defaout\n",
    "grid_y = np.arange(extent[2],extent[3],0.005)\n",
    "\n",
    "###############################################################################\n",
    "# Creates the kriged grid and the variance grid. Allows for kriging on a rectangular\n",
    "# grid of points, on a masked rectangular grid of points, or with arbitrary points.\n",
    "z, ss = OK.execute('grid', grid_x, grid_y)\n",
    "\n",
    "#save results of kriging\n",
    "# Writes the kriged grid to an ASCII grid file and plot it.\n",
    "os.chdir(cf.cwd_figures)\n",
    "kt.write_asc_grid(grid_x, grid_y, z, filename=\"kriging_ordinario.asc\") #Kriging Ordinario en forma de matriz\n",
    "kt.write_asc_grid(grid_x, grid_y, ss, filename=\"kriging_ordinario_var.asc\") #Varianza de estimación en forma de matriz\n",
    "\n",
    "#-------------------------------------------------------------------------------------------"
   ]
  },
  {
   "cell_type": "code",
   "execution_count": null,
   "id": "a4f24711",
   "metadata": {},
   "outputs": [],
   "source": [
    "#upload results of kriging\n",
    "os.chdir(cf.cwd_figures)\n",
    "asc = pd.read_csv(\"./kriging_ordinario.asc\", header=None, skiprows=7, sep=\"\\s+\") \n",
    "temp2=np.array(asc)\n",
    "\n",
    "##############################################################################\n",
    "#PLOT kriging over map using CARTOPY - street map API\n",
    "#-------------------------------------------------------------------------------------------\n",
    "\n",
    "cimgt.Stamen.get_image = image_spoof # reformat web request for street map spoofing\n",
    "osm_img = cimgt.OSM() # spoofed, downloaded street map  'terrain-background', 'terrain'  'toner'\n",
    "\n",
    "fig = plt.figure(figsize=(12,9)) # open matplotlib figure\n",
    "ax1 = plt.axes(projection=osm_img.crs) # project using coordinate reference system (CRS) of street map\n",
    "ax1.set_title('UHI Intensity. Total CDHs ',fontsize=16)\n",
    "\n",
    "ax1.set_extent(extent) # set extents\n",
    "ax1.set_xticks(np.linspace(extent[0],extent[1],7),crs=ccrs.PlateCarree()) # set longitude indicators\n",
    "ax1.set_yticks(np.linspace(extent[2],extent[3],7)[1:],crs=ccrs.PlateCarree()) # set latitude indicators\n",
    "lon_formatter = LongitudeFormatter(number_format='0.1f',degree_symbol='',dateline_direction_label=True) # format lons\n",
    "lat_formatter = LatitudeFormatter(number_format='0.1f',degree_symbol='') # format lats\n",
    "ax1.xaxis.set_major_formatter(lon_formatter) # set lons\n",
    "ax1.yaxis.set_major_formatter(lat_formatter) # set lats\n",
    "ax1.xaxis.set_tick_params(labelsize=14)\n",
    "ax1.yaxis.set_tick_params(labelsize=14)\n",
    "\n",
    "scale = np.ceil(-np.sqrt(2)*np.log(np.divide((extent[1]-extent[0])/2.0,350.0))) # empirical solve for scale based on zoom\n",
    "scale = (scale<20) and scale or 19 # scale cannot be larger than 19\n",
    "ax1.add_image(osm_img, int(scale)) # add OSM with zoom specification\n",
    "\n",
    "cmap = plt.get_cmap(\"turbo\") #Color alternatives: \"turbo\" \"Reds\" \"hot_r\" \"jet\"   -   \"OrRd\" \"gist_heat_r\" \"afmhot_r\" \"RdBu_r\"\n",
    "ax1=plt.imshow(temp2, transform=ccrs.PlateCarree(),cmap=cmap,extent=[extent[0],extent[1],extent[2],extent[3]],alpha=0.65,zorder=1,vmin=temp2.min(), vmax=temp2.max()) #min and max similar to bar\n",
    "\n",
    "#temperature bar\n",
    "norm = plt.Normalize(temp2.min(),temp2.max()) #max and min   -  temp2.min(),temp2.max()\n",
    "sm =  ScalarMappable(norm=norm, cmap=cmap)\n",
    "sm.set_array([])\n",
    "cbaxes = fig.add_axes([0.73, 0.15, 0.025, 0.3])\n",
    "cbar = fig.colorbar(sm, cax=cbaxes, orientation='vertical',shrink=0.3,aspect=10)\n",
    "cbar.ax.set_title(\"CDH\")\n",
    "\n",
    "os.chdir(cf.cwd_figures)\n",
    "plt.savefig(f\"05_Analytics_{city}_figure2.jpg\", format='jpg')\n",
    "plt.show()"
   ]
  }
 ],
 "metadata": {
  "kernelspec": {
   "display_name": "Python 3 (ipykernel)",
   "language": "python",
   "name": "python3"
  },
  "language_info": {
   "codemirror_mode": {
    "name": "ipython",
    "version": 3
   },
   "file_extension": ".py",
   "mimetype": "text/x-python",
   "name": "python",
   "nbconvert_exporter": "python",
   "pygments_lexer": "ipython3",
   "version": "3.8.12"
  }
 },
 "nbformat": 4,
 "nbformat_minor": 5
}
