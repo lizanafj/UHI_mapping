{
 "cells": [
  {
   "cell_type": "markdown",
   "id": "52a86c2e",
   "metadata": {},
   "source": [
    "<sup>This notebook is originally from https://github.com/lizanafj/UHI_mapping and licensed for reuse under [GPL-3.0 license].</sup>"
   ]
  },
  {
   "cell_type": "markdown",
   "id": "bba616c4",
   "metadata": {},
   "source": [
    "# Data Extraction - Netatmo\n",
    "---"
   ]
  },
  {
   "cell_type": "markdown",
   "id": "5795434f",
   "metadata": {},
   "source": [
    "This notebook extracts data from Netatmo"
   ]
  },
  {
   "cell_type": "code",
   "execution_count": null,
   "id": "94dd270a",
   "metadata": {},
   "outputs": [],
   "source": [
    "import os\n",
    "import requests\n",
    "import pandas as pd\n",
    "import numpy as np\n",
    "\n",
    "# get folder location of script\n",
    "cwd = os.getcwd()"
   ]
  },
  {
   "cell_type": "markdown",
   "id": "60983128",
   "metadata": {},
   "source": [
    "## Define name of city project to work\n",
    "---"
   ]
  },
  {
   "cell_type": "markdown",
   "id": "75a9e2a9",
   "metadata": {},
   "source": [
    "Define the name of the **`city`** (projectname) to upload/save all data during the workflow"
   ]
  },
  {
   "cell_type": "code",
   "execution_count": null,
   "id": "c48d7486",
   "metadata": {},
   "outputs": [],
   "source": [
    "#City project: \n",
    "city= \"London\""
   ]
  },
  {
   "cell_type": "markdown",
   "id": "9f5b2a14",
   "metadata": {},
   "source": [
    "## Import input data of the project - config.py \n",
    "---"
   ]
  },
  {
   "cell_type": "code",
   "execution_count": null,
   "id": "860808dc",
   "metadata": {},
   "outputs": [],
   "source": [
    "os.chdir(cwd)"
   ]
  },
  {
   "cell_type": "code",
   "execution_count": null,
   "id": "82b18ddc",
   "metadata": {},
   "outputs": [],
   "source": [
    "cwd_main = cwd[:-10]\n",
    "cwd_project = cwd_main + f\"\\projectname\\{city}\"\n",
    "print(cwd_main)\n",
    "print(cwd_project)"
   ]
  },
  {
   "cell_type": "code",
   "execution_count": null,
   "id": "967fea8e",
   "metadata": {},
   "outputs": [],
   "source": [
    "#import config.py file\n",
    "\n",
    "# go to current location of script\n",
    "os.chdir(cwd_project)\n",
    "import config as cf"
   ]
  },
  {
   "cell_type": "code",
   "execution_count": null,
   "id": "31ecef9c",
   "metadata": {
    "scrolled": true
   },
   "outputs": [],
   "source": [
    "#check input variables\n",
    "print(\"city: \",cf.city)\n",
    "print(\"first date: \",cf.first_date)\n",
    "print(\"last date: \",cf.last_date)\n",
    "print(\"lat,long: \",cf.lat,cf.long)\n",
    "print(\"plot: \",cf.plot)"
   ]
  },
  {
   "cell_type": "markdown",
   "id": "dfc771e7",
   "metadata": {},
   "source": [
    "## Data extraction 1/2: stations, lat, and long\n",
    "---"
   ]
  },
  {
   "cell_type": "markdown",
   "id": "0cb7c9d1",
   "metadata": {},
   "source": [
    "Get API toke for Netatmo data extraction in https://dev.netatmo.com/apidocumentation/weather#getpublicdata"
   ]
  },
  {
   "cell_type": "code",
   "execution_count": null,
   "id": "5269ae71",
   "metadata": {},
   "outputs": [],
   "source": [
    "#Token for API authorization\n",
    "token = \"Bearer 60e70ef3d3b12959ea6a382f|fe762b2556c4ee07b455ddd2c2f7f2c6\" \n",
    "#extraction grid size - recommended from 0.02x0.02° to 1x1°\n",
    "grid = 0.02"
   ]
  },
  {
   "cell_type": "code",
   "execution_count": null,
   "id": "eb4c5226",
   "metadata": {},
   "outputs": [],
   "source": [
    "#go to script/data (code for extraction)\n",
    "os.chdir(cf.cwd_scripts_data)"
   ]
  },
  {
   "cell_type": "markdown",
   "id": "c1b417f4",
   "metadata": {},
   "source": [
    "Update projectdata.json file with project variables"
   ]
  },
  {
   "cell_type": "code",
   "execution_count": null,
   "id": "fabb0554",
   "metadata": {},
   "outputs": [],
   "source": [
    "#update input variables (json file) in script folder for extraction\n",
    "d = {'auth1':token,\"grid\":grid,\n",
    "     'city':cf.city,'lat':cf.lat,'long':cf.long, \n",
    "     'plot':cf.plot, \n",
    "     \"first_date\":cf.first_date,\"last_date\":cf.last_date}\n",
    "\n",
    "import json\n",
    "\n",
    "with open('projectdata.json', 'w') as fp:\n",
    "    json.dump(d, fp)"
   ]
  },
  {
   "cell_type": "markdown",
   "id": "580421f2",
   "metadata": {},
   "source": [
    "Run extraction"
   ]
  },
  {
   "cell_type": "code",
   "execution_count": null,
   "id": "1201a70b",
   "metadata": {},
   "outputs": [],
   "source": [
    "os.chdir(cf.cwd_scripts_data)\n",
    "\n",
    "%run A1_getstationsdata_netatmo_v4.py"
   ]
  },
  {
   "cell_type": "markdown",
   "id": "8b1cc438",
   "metadata": {},
   "source": [
    "## Data extraction 2/2: time series of meteorological variables\n",
    "---"
   ]
  },
  {
   "cell_type": "markdown",
   "id": "4ae1ef4a",
   "metadata": {},
   "source": [
    "The extraction of meteorological variables works as follow: \n",
    "\n",
    "1.Each time serie is extracted individually, and saved in folder projectname\\city\\data\\0_raw\\temp\n",
    "2.Before starting, the code verify if the station/file has been already donwloaded. If yes, pass\n",
    "3.If not, download file. If empty, pass (empty +1); if data, save in folder. \n",
    "4.If empty>10, exit and print \"Error\" - to stop during long unconnected period \n",
    "5.To reiniciate, elimnate last empy files, check/update token and conection, and start again\n",
    "6.Once all individual time series are extracted, all time series are combined in a new file, and saved in projectname\\city\\data\\0_raw\n",
    "7.Temp folder can be cleaned, if needed. "
   ]
  },
  {
   "cell_type": "code",
   "execution_count": null,
   "id": "6574c063",
   "metadata": {},
   "outputs": [],
   "source": [
    "os.chdir(cf.cwd_scripts_data)\n",
    "\n",
    "%run A2_getmeasure_netatmo_v4.py"
   ]
  },
  {
   "cell_type": "code",
   "execution_count": null,
   "id": "17a19def",
   "metadata": {},
   "outputs": [],
   "source": []
  }
 ],
 "metadata": {
  "kernelspec": {
   "display_name": "Python 3 (ipykernel)",
   "language": "python",
   "name": "python3"
  },
  "language_info": {
   "codemirror_mode": {
    "name": "ipython",
    "version": 3
   },
   "file_extension": ".py",
   "mimetype": "text/x-python",
   "name": "python",
   "nbconvert_exporter": "python",
   "pygments_lexer": "ipython3",
   "version": "3.8.12"
  }
 },
 "nbformat": 4,
 "nbformat_minor": 5
}
