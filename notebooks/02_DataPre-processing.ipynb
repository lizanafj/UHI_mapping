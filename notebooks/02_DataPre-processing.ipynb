{
 "cells": [
  {
   "cell_type": "markdown",
   "id": "52a86c2e",
   "metadata": {},
   "source": [
    "<sup>This notebook is originally from https://github.com/lizanafj/UHI_mapping and licensed for reuse under [GPL-3.0 license].</sup>"
   ]
  },
  {
   "cell_type": "markdown",
   "id": "bba616c4",
   "metadata": {},
   "source": [
    "# Data Pre-processing\n",
    "---"
   ]
  },
  {
   "cell_type": "markdown",
   "id": "5795434f",
   "metadata": {},
   "source": [
    "This notebook filters raw data and flags suspicious values as wrong using different cleaning and quality control techniques"
   ]
  },
  {
   "cell_type": "code",
   "execution_count": null,
   "id": "94dd270a",
   "metadata": {},
   "outputs": [],
   "source": [
    "import os\n",
    "import requests\n",
    "import pandas as pd\n",
    "import numpy as np\n",
    "import json\n",
    "\n",
    "# get folder location of script\n",
    "cwd = os.getcwd()"
   ]
  },
  {
   "cell_type": "markdown",
   "id": "e3de1859",
   "metadata": {},
   "source": [
    "## Define name of city project to work\n",
    "---"
   ]
  },
  {
   "cell_type": "markdown",
   "id": "07c2dbbd",
   "metadata": {},
   "source": [
    "Define the name of the **`city`** (projectname) to upload/save all data during the workflow"
   ]
  },
  {
   "cell_type": "code",
   "execution_count": null,
   "id": "28971d9a",
   "metadata": {},
   "outputs": [],
   "source": [
    "#City project: \n",
    "city= \"London\""
   ]
  },
  {
   "cell_type": "markdown",
   "id": "9f5b2a14",
   "metadata": {},
   "source": [
    "## Import input data of the project - config.py \n",
    "---"
   ]
  },
  {
   "cell_type": "code",
   "execution_count": null,
   "id": "e7a8772c",
   "metadata": {},
   "outputs": [],
   "source": [
    "os.chdir(cwd)"
   ]
  },
  {
   "cell_type": "code",
   "execution_count": null,
   "id": "82b18ddc",
   "metadata": {},
   "outputs": [],
   "source": [
    "cwd_main = cwd[:-10]\n",
    "cwd_project = cwd_main + f\"\\projectname\\{city}\"\n",
    "print(cwd_main)\n",
    "print(cwd_project)"
   ]
  },
  {
   "cell_type": "code",
   "execution_count": null,
   "id": "967fea8e",
   "metadata": {},
   "outputs": [],
   "source": [
    "#import config.py file\n",
    "\n",
    "# go to current location of script\n",
    "os.chdir(cwd_project)\n",
    "import config as cf"
   ]
  },
  {
   "cell_type": "code",
   "execution_count": null,
   "id": "31ecef9c",
   "metadata": {
    "scrolled": true
   },
   "outputs": [],
   "source": [
    "#check input variables\n",
    "print(\"city: \",cf.city)\n",
    "print(\"first date: \",cf.first_date)\n",
    "print(\"last date: \",cf.last_date)\n",
    "print(\"lat,long: \",cf.lat,cf.long)\n",
    "print(\"plot: \",cf.plot)"
   ]
  },
  {
   "cell_type": "markdown",
   "id": "dfc771e7",
   "metadata": {},
   "source": [
    "## Pre-processing\n",
    "---"
   ]
  },
  {
   "cell_type": "markdown",
   "id": "c1b417f4",
   "metadata": {},
   "source": [
    "Update projectdata.json file with project variables"
   ]
  },
  {
   "cell_type": "code",
   "execution_count": null,
   "id": "eb4c5226",
   "metadata": {},
   "outputs": [],
   "source": [
    "#go to script/process (code for cleaning and quality control)\n",
    "os.chdir(cf.cwd_scripts_process)"
   ]
  },
  {
   "cell_type": "code",
   "execution_count": null,
   "id": "fabb0554",
   "metadata": {},
   "outputs": [],
   "source": [
    "#update input variables (json file) in script folder for extraction\n",
    "d = {'city':cf.city,'lat':cf.lat,'long':cf.long, \n",
    "     'plot':cf.plot, \n",
    "     \"first_date\":cf.first_date,\"last_date\":cf.last_date,\n",
    "     \"first_date1\":cf.first_date1,\"last_date1\":cf.last_date1,\n",
    "    \"color_net\":cf.color_net, \"color_wund\":cf.color_wund,\n",
    "    \"color_ows\":cf.color_ows, \"color_cws\":cf.color_cws,\n",
    "    \"color_outliers\":cf.color_outliers}\n",
    "\n",
    "with open('projectdata_p.json', 'w') as fp:\n",
    "    json.dump(d, fp)"
   ]
  },
  {
   "cell_type": "markdown",
   "id": "580421f2",
   "metadata": {},
   "source": [
    "Run pre-processing"
   ]
  },
  {
   "cell_type": "code",
   "execution_count": null,
   "id": "1201a70b",
   "metadata": {},
   "outputs": [],
   "source": [
    "os.chdir(cf.cwd_scripts_process)\n",
    "\n",
    "%run B_DataPre-processing.py"
   ]
  },
  {
   "cell_type": "markdown",
   "id": "fb6f774a",
   "metadata": {},
   "source": [
    "## Statistics before and after pre-processing\n",
    "---"
   ]
  },
  {
   "cell_type": "markdown",
   "id": "8b1cc438",
   "metadata": {},
   "source": [
    "Check statistics before and after the pre-processing techniques"
   ]
  },
  {
   "cell_type": "code",
   "execution_count": null,
   "id": "17a19def",
   "metadata": {},
   "outputs": [],
   "source": [
    "os.chdir(cf.cwd_reports)\n",
    "os.listdir()"
   ]
  },
  {
   "cell_type": "code",
   "execution_count": null,
   "id": "184c9b2c",
   "metadata": {},
   "outputs": [],
   "source": [
    "#Read stats from CWS before and after each pre-processing step\n",
    "CWS_stats = pd.read_csv(\"Pre-processing_London_2021_CWS_all_G8_g8_Statistics.csv\", sep=\",\")"
   ]
  },
  {
   "cell_type": "code",
   "execution_count": null,
   "id": "a4eeb0c7",
   "metadata": {},
   "outputs": [],
   "source": [
    "CWS_stats"
   ]
  },
  {
   "cell_type": "code",
   "execution_count": null,
   "id": "bb7109d0",
   "metadata": {},
   "outputs": [],
   "source": [
    "#Read stats from OWS before and after each pre-processing step\n",
    "OWS_stats = pd.read_csv(\"Pre-processing_London_2021_OWS_all_G8_g8_Statistics.csv\", sep=\",\")"
   ]
  },
  {
   "cell_type": "code",
   "execution_count": null,
   "id": "4d9fa13f",
   "metadata": {},
   "outputs": [],
   "source": [
    "OWS_stats"
   ]
  },
  {
   "cell_type": "code",
   "execution_count": null,
   "id": "76a995b4",
   "metadata": {},
   "outputs": [],
   "source": []
  }
 ],
 "metadata": {
  "kernelspec": {
   "display_name": "Python 3 (ipykernel)",
   "language": "python",
   "name": "python3"
  },
  "language_info": {
   "codemirror_mode": {
    "name": "ipython",
    "version": 3
   },
   "file_extension": ".py",
   "mimetype": "text/x-python",
   "name": "python",
   "nbconvert_exporter": "python",
   "pygments_lexer": "ipython3",
   "version": "3.8.12"
  }
 },
 "nbformat": 4,
 "nbformat_minor": 5
}
