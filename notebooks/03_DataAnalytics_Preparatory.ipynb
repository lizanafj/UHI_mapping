{
 "cells": [
  {
   "cell_type": "markdown",
   "id": "52a86c2e",
   "metadata": {},
   "source": [
    "<sup>This notebook is originally from https://github.com/lizanafj/UHI_mapping and licensed for reuse under [GPL-3.0 license].</sup>"
   ]
  },
  {
   "cell_type": "markdown",
   "id": "bba616c4",
   "metadata": {},
   "source": [
    "# Data Analytics\n",
    "---"
   ]
  },
  {
   "cell_type": "markdown",
   "id": "5795434f",
   "metadata": {},
   "source": [
    "This notebook has different data analysis techniques for the diagnosis of the urban heat island in cities"
   ]
  },
  {
   "cell_type": "code",
   "execution_count": null,
   "id": "94dd270a",
   "metadata": {},
   "outputs": [],
   "source": [
    "import os\n",
    "import requests\n",
    "import pandas as pd\n",
    "import numpy as np\n",
    "import json\n",
    "\n",
    "import matplotlib.pyplot as plt\n",
    "from matplotlib.dates import DateFormatter\n",
    "import matplotlib.dates as mdates\n",
    "from matplotlib.dates import date2num\n",
    "\n",
    "import datetime\n",
    "from datetime import datetime\n",
    "\n",
    "# get folder location of script\n",
    "cwd = os.getcwd()"
   ]
  },
  {
   "cell_type": "markdown",
   "id": "e3de1859",
   "metadata": {},
   "source": [
    "## Define name of city project to work\n",
    "---"
   ]
  },
  {
   "cell_type": "markdown",
   "id": "07c2dbbd",
   "metadata": {},
   "source": [
    "Define the name of the **`city`** (projectname) to upload/save all data during the workflow"
   ]
  },
  {
   "cell_type": "code",
   "execution_count": null,
   "id": "28971d9a",
   "metadata": {},
   "outputs": [],
   "source": [
    "#City project: \n",
    "city= \"London\""
   ]
  },
  {
   "cell_type": "markdown",
   "id": "9f5b2a14",
   "metadata": {},
   "source": [
    "## Import input data of the project - config.py \n",
    "---"
   ]
  },
  {
   "cell_type": "code",
   "execution_count": null,
   "id": "d1773542",
   "metadata": {},
   "outputs": [],
   "source": [
    "os.chdir(cwd)"
   ]
  },
  {
   "cell_type": "code",
   "execution_count": null,
   "id": "82b18ddc",
   "metadata": {},
   "outputs": [],
   "source": [
    "cwd_main = cwd[:-10]\n",
    "cwd_project = cwd_main + f\"\\projectname\\{city}\"\n",
    "print(cwd_main)\n",
    "print(cwd_project)"
   ]
  },
  {
   "cell_type": "code",
   "execution_count": null,
   "id": "967fea8e",
   "metadata": {},
   "outputs": [],
   "source": [
    "#import config.py file\n",
    "\n",
    "# go to current location of script\n",
    "os.chdir(cwd_project)\n",
    "import config as cf"
   ]
  },
  {
   "cell_type": "code",
   "execution_count": null,
   "id": "31ecef9c",
   "metadata": {
    "scrolled": true
   },
   "outputs": [],
   "source": [
    "#check input variables\n",
    "print(\"city: \",cf.city)\n",
    "print(\"first date: \",cf.first_date)\n",
    "print(\"last date: \",cf.last_date)\n",
    "print(\"lat,long: \",cf.lat,cf.long)\n",
    "print(\"plot: \",cf.plot)"
   ]
  },
  {
   "cell_type": "markdown",
   "id": "dfc771e7",
   "metadata": {},
   "source": [
    "## Update input data file (json file)\n",
    "---"
   ]
  },
  {
   "cell_type": "markdown",
   "id": "c1b417f4",
   "metadata": {},
   "source": [
    "Update projectdata.json file with project variables"
   ]
  },
  {
   "cell_type": "code",
   "execution_count": null,
   "id": "eb4c5226",
   "metadata": {},
   "outputs": [],
   "source": [
    "os.chdir(cf.cwd_scripts_process)"
   ]
  },
  {
   "cell_type": "code",
   "execution_count": null,
   "id": "fabb0554",
   "metadata": {},
   "outputs": [],
   "source": [
    "#update input variables (json file) in script folder for extraction\n",
    "d = {'city':cf.city,'lat':cf.lat,'long':cf.long, \n",
    "     'plot':cf.plot, \n",
    "     \"first_date\":cf.first_date,\"last_date\":cf.last_date,\n",
    "     \"first_date1\":cf.first_date1,\"last_date1\":cf.last_date1,\n",
    "    \"color_net\":cf.color_net, \"color_wund\":cf.color_wund,\n",
    "    \"color_ows\":cf.color_ows, \"color_cws\":cf.color_cws,\n",
    "    \"color_outliers\":cf.color_outliers}\n",
    "\n",
    "with open('projectdata_p.json', 'w') as fp:\n",
    "    json.dump(d, fp)"
   ]
  },
  {
   "cell_type": "markdown",
   "id": "34b47d66",
   "metadata": {},
   "source": [
    "## Data analytics\n",
    "---"
   ]
  },
  {
   "cell_type": "markdown",
   "id": "580421f2",
   "metadata": {},
   "source": [
    "Run analytics"
   ]
  },
  {
   "cell_type": "code",
   "execution_count": null,
   "id": "1201a70b",
   "metadata": {},
   "outputs": [],
   "source": [
    "os.chdir(cf.cwd_scripts_process)\n",
    "\n",
    "%run C1_DataAnalytics_1.py"
   ]
  },
  {
   "cell_type": "markdown",
   "id": "fb6f774a",
   "metadata": {},
   "source": [
    "## Explore the results\n",
    "---"
   ]
  },
  {
   "cell_type": "markdown",
   "id": "8b1cc438",
   "metadata": {},
   "source": [
    "Check files generated and outputs"
   ]
  },
  {
   "cell_type": "code",
   "execution_count": null,
   "id": "17a19def",
   "metadata": {},
   "outputs": [],
   "source": [
    "os.chdir(cf.cwd_data_proc)\n",
    "os.listdir()"
   ]
  },
  {
   "cell_type": "code",
   "execution_count": null,
   "id": "184c9b2c",
   "metadata": {},
   "outputs": [],
   "source": [
    "#Read data\n",
    "temp_CWS = pd.read_csv(\"Temperature_London_2021_CWS_all_QC_G8_proc.csv\", index_col='date',parse_dates=True)\n",
    "temp_rural = pd.read_csv(\"xTemperature_London_2021_CWS_rural_stations.csv\", index_col='date',parse_dates=True)"
   ]
  },
  {
   "cell_type": "code",
   "execution_count": null,
   "id": "9e74928b",
   "metadata": {},
   "outputs": [],
   "source": [
    "temp_rural"
   ]
  },
  {
   "cell_type": "code",
   "execution_count": null,
   "id": "86a155a8",
   "metadata": {},
   "outputs": [],
   "source": [
    "os.chdir(cf.cwd_data_filt)\n",
    "os.listdir()"
   ]
  },
  {
   "cell_type": "code",
   "execution_count": null,
   "id": "366a7b24",
   "metadata": {},
   "outputs": [],
   "source": [
    "#Read data\n",
    "temp_OWS = pd.read_csv(\"Temperature_London_2021_OWS_QC_I5.csv\", index_col='date',parse_dates=True)"
   ]
  },
  {
   "cell_type": "code",
   "execution_count": null,
   "id": "a4eeb0c7",
   "metadata": {},
   "outputs": [],
   "source": [
    "temp_OWS"
   ]
  },
  {
   "cell_type": "code",
   "execution_count": null,
   "id": "76a995b4",
   "metadata": {},
   "outputs": [],
   "source": [
    "#Figure to check day\n",
    "day1=\"2021-08-01\"\n",
    "day2=\"2021-08-15\"\n",
    "\n",
    "fig, ax = plt.subplots(figsize=(18, 6))\n",
    "\n",
    "# Add x-axis and y-axis\n",
    "l1 = ax.plot(temp_rural.truncate(before=day1, after=day2).iloc[:,0],color='red',alpha=1,label=\"Mean temperature in surrounding rural area\",linewidth=1.5)\n",
    "l2 = ax.plot(temp_CWS.truncate(before=day1, after=day2).iloc[:,0],color='blue',alpha=1,label=\"CWS data\",linewidth=1)\n",
    "l3 = ax.plot(temp_OWS.truncate(before=day1, after=day2).iloc[:,0],color='k',alpha=1,label=\"OWS data\",linewidth=1)\n",
    "\n",
    "l4 = ax.plot(temp_CWS.truncate(before=day1, after=day2),color='blue',alpha=0.1,label='_Hidden',linewidth=0.2)\n",
    "l5 = ax.plot(temp_OWS.truncate(before=day1, after=day2),color='k',alpha=1,label='_Hidden',linewidth=0.6)\n",
    "l6 = ax.plot(temp_rural.truncate(before=day1, after=day2),color='red',alpha=1,label='_Hidden',linewidth=1.5)\n",
    "\n",
    "\n",
    "# Set title and labels for axes\n",
    "ax.set(ylabel=\"Temperature (ºC)\",\n",
    "       title=\"Overlapping of air temperature time series of CWS, OWS, and rural climate\")\n",
    "\n",
    "#ax.set(ylim=(5, 40))\n",
    "\n",
    "plt.legend(loc=1)\n",
    "#plt.grid(color='grey', linestyle='--', linewidth=0.6)\n",
    "\n",
    "#margins - 0 applied\n",
    "plt.margins(x=0)\n",
    "\n",
    "# Define the date format\n",
    "date_form = DateFormatter(\"%d-%m-%y\")\n",
    "ax.xaxis.set_major_formatter(date_form)\n",
    "\n",
    "# Ensure a major tick for each week using (interval=1) \n",
    "ax.xaxis.set_major_locator(mdates.DayLocator(interval=2))\n",
    "\n",
    "os.chdir(cf.cwd_figures)\n",
    "plt.savefig(f\"03_Analytics_{city}_figure1.jpg\", format='jpg')\n",
    "plt.show()"
   ]
  },
  {
   "cell_type": "code",
   "execution_count": null,
   "id": "10e2dcbb",
   "metadata": {},
   "outputs": [],
   "source": []
  }
 ],
 "metadata": {
  "kernelspec": {
   "display_name": "Python 3 (ipykernel)",
   "language": "python",
   "name": "python3"
  },
  "language_info": {
   "codemirror_mode": {
    "name": "ipython",
    "version": 3
   },
   "file_extension": ".py",
   "mimetype": "text/x-python",
   "name": "python",
   "nbconvert_exporter": "python",
   "pygments_lexer": "ipython3",
   "version": "3.8.12"
  }
 },
 "nbformat": 4,
 "nbformat_minor": 5
}
